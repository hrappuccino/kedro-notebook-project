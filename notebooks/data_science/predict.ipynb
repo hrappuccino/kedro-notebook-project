{
 "cells": [
  {
   "cell_type": "code",
   "execution_count": null,
   "metadata": {},
   "outputs": [],
   "source": [
    "%reload_kedro"
   ]
  },
  {
   "cell_type": "code",
   "execution_count": null,
   "metadata": {},
   "outputs": [],
   "source": [
    "model = catalog.load('example_model')\n",
    "test_x = catalog.load('example_test_x')"
   ]
  },
  {
   "cell_type": "code",
   "execution_count": null,
   "metadata": {},
   "outputs": [],
   "source": [
    "import logging\n",
    "from typing import Any, Dict\n",
    "\n",
    "import numpy as np\n",
    "import pandas as pd\n",
    "\n",
    "\n",
    "def predict(model: np.ndarray, test_x: pd.DataFrame) -> np.ndarray:\n",
    "    \"\"\"Node for making predictions given a pre-trained model and a test set.\n",
    "    \"\"\"\n",
    "    X = test_x.to_numpy()\n",
    "\n",
    "    # Add bias to the features\n",
    "    bias = np.ones((X.shape[0], 1))\n",
    "    X = np.concatenate((bias, X), axis=1)\n",
    "\n",
    "    # Predict \"probabilities\" for each class\n",
    "    result = _sigmoid(np.dot(X, model))\n",
    "\n",
    "    # Return the index of the class with max probability for all samples\n",
    "    return np.argmax(result, axis=1)\n",
    "\n",
    "\n",
    "def _sigmoid(z):\n",
    "    \"\"\"A helper sigmoid function used by the training and the scoring nodes.\"\"\"\n",
    "    return 1 / (1 + np.exp(-z))\n"
   ]
  },
  {
   "cell_type": "code",
   "execution_count": null,
   "metadata": {},
   "outputs": [],
   "source": [
    "predictions = predict(model, test_x)"
   ]
  },
  {
   "cell_type": "code",
   "execution_count": null,
   "metadata": {},
   "outputs": [],
   "source": [
    "catalog.save('example_predictions', predictions)"
   ]
  },
  {
   "cell_type": "code",
   "execution_count": null,
   "metadata": {},
   "outputs": [],
   "source": []
  }
 ],
 "metadata": {
  "kernelspec": {
   "display_name": "KedroNotebookProject",
   "language": "python",
   "name": "python3"
  },
  "language_info": {
   "codemirror_mode": {
    "name": "ipython",
    "version": 3
   },
   "file_extension": ".py",
   "mimetype": "text/x-python",
   "name": "python",
   "nbconvert_exporter": "python",
   "pygments_lexer": "ipython3",
   "version": "3.6.9"
  }
 },
 "nbformat": 4,
 "nbformat_minor": 4
}

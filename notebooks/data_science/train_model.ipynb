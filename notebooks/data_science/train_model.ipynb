{
 "cells": [
  {
   "cell_type": "code",
   "execution_count": null,
   "metadata": {},
   "outputs": [],
   "source": [
    "%reload_kedro"
   ]
  },
  {
   "cell_type": "code",
   "execution_count": null,
   "metadata": {},
   "outputs": [],
   "source": [
    "train_x = catalog.load('example_train_x')\n",
    "train_y = catalog.load('example_train_y')\n",
    "parameters = catalog.load('parameters')"
   ]
  },
  {
   "cell_type": "code",
   "execution_count": null,
   "metadata": {},
   "outputs": [],
   "source": [
    "import logging\n",
    "from typing import Any, Dict\n",
    "\n",
    "import numpy as np\n",
    "import pandas as pd\n",
    "\n",
    "\n",
    "def train_model(\n",
    "    train_x: pd.DataFrame, train_y: pd.DataFrame, parameters: Dict[str, Any]\n",
    ") -> np.ndarray:\n",
    "    \"\"\"Node for training a simple multi-class logistic regression model. The\n",
    "    number of training iterations as well as the learning rate are taken from\n",
    "    conf/project/parameters.yml. All of the data as well as the parameters\n",
    "    will be provided to this function at the time of execution.\n",
    "    \"\"\"\n",
    "    num_iter = parameters[\"example_num_train_iter\"]\n",
    "    lr = parameters[\"example_learning_rate\"]\n",
    "    X = train_x.to_numpy()\n",
    "    Y = train_y.to_numpy()\n",
    "\n",
    "    # Add bias to the features\n",
    "    bias = np.ones((X.shape[0], 1))\n",
    "    X = np.concatenate((bias, X), axis=1)\n",
    "\n",
    "    weights = []\n",
    "    # Train one model for each class in Y\n",
    "    for k in range(Y.shape[1]):\n",
    "        # Initialise weights\n",
    "        theta = np.zeros(X.shape[1])\n",
    "        y = Y[:, k]\n",
    "        for _ in range(num_iter):\n",
    "            z = np.dot(X, theta)\n",
    "            h = _sigmoid(z)\n",
    "            gradient = np.dot(X.T, (h - y)) / y.size\n",
    "            theta -= lr * gradient\n",
    "        # Save the weights for each model\n",
    "        weights.append(theta)\n",
    "\n",
    "    # Return a joint multi-class model with weights for all classes\n",
    "    return np.vstack(weights).transpose()\n",
    "\n",
    "\n",
    "def _sigmoid(z):\n",
    "    \"\"\"A helper sigmoid function used by the training and the scoring nodes.\"\"\"\n",
    "    return 1 / (1 + np.exp(-z))\n"
   ]
  },
  {
   "cell_type": "code",
   "execution_count": null,
   "metadata": {},
   "outputs": [],
   "source": [
    "model = train_model(train_x, train_y, parameters)"
   ]
  },
  {
   "cell_type": "code",
   "execution_count": null,
   "metadata": {},
   "outputs": [],
   "source": [
    "catalog.save('example_model', model)"
   ]
  },
  {
   "cell_type": "code",
   "execution_count": null,
   "metadata": {},
   "outputs": [],
   "source": []
  }
 ],
 "metadata": {
  "kernelspec": {
   "display_name": "KedroNotebookProject",
   "language": "python",
   "name": "python3"
  },
  "language_info": {
   "codemirror_mode": {
    "name": "ipython",
    "version": 3
   },
   "file_extension": ".py",
   "mimetype": "text/x-python",
   "name": "python",
   "nbconvert_exporter": "python",
   "pygments_lexer": "ipython3",
   "version": "3.6.9"
  }
 },
 "nbformat": 4,
 "nbformat_minor": 4
}

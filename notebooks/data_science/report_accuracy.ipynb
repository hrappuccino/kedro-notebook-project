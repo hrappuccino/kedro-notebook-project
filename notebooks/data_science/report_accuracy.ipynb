{
 "cells": [
  {
   "cell_type": "code",
   "execution_count": null,
   "metadata": {},
   "outputs": [],
   "source": [
    "%reload_kedro"
   ]
  },
  {
   "cell_type": "code",
   "execution_count": null,
   "metadata": {},
   "outputs": [],
   "source": [
    "predictions = catalog.load('example_predictions')\n",
    "test_y = catalog.load('example_test_y')"
   ]
  },
  {
   "cell_type": "code",
   "execution_count": null,
   "metadata": {},
   "outputs": [],
   "source": [
    "import logging\n",
    "from typing import Any, Dict\n",
    "\n",
    "import numpy as np\n",
    "import pandas as pd\n",
    "import os\n",
    "import mlflow\n",
    "from mlflow import sklearn\n",
    "from datetime import datetime\n",
    "\n",
    "\n",
    "def report_accuracy(predictions: np.ndarray, test_y: pd.DataFrame) -> None:\n",
    "    \"\"\"Node for reporting the accuracy of the predictions performed by the\n",
    "    previous node. Notice that this function has no outputs, except logging.\n",
    "    \"\"\"\n",
    "    # Get true class index\n",
    "    target = np.argmax(test_y.to_numpy(), axis=1)\n",
    "    # Calculate accuracy of predictions\n",
    "    accuracy = np.sum(predictions == target) / target.shape[0]\n",
    "    # Log the accuracy of the model\n",
    "    log = logging.getLogger(__name__)\n",
    "    log.info(\"Model accuracy on test set: %0.2f%%\", accuracy * 100)\n",
    "    mlflow.log_metric(\"accuracy\", accuracy)\n",
    "    mlflow.log_param(\"time of prediction\", str(datetime.now()))\n",
    "    mlflow.set_tag(\"Population\", 2019)\n",
    "\n",
    "def _sigmoid(z):\n",
    "    \"\"\"A helper sigmoid function used by the training and the scoring nodes.\"\"\"\n",
    "    return 1 / (1 + np.exp(-z))\n"
   ]
  },
  {
   "cell_type": "code",
   "execution_count": null,
   "metadata": {},
   "outputs": [],
   "source": [
    "report_accuracy(predictions, test_y)"
   ]
  },
  {
   "cell_type": "code",
   "execution_count": null,
   "metadata": {},
   "outputs": [],
   "source": []
  }
 ],
 "metadata": {
  "kernelspec": {
   "display_name": "KedroNotebookProject",
   "language": "python",
   "name": "python3"
  },
  "language_info": {
   "codemirror_mode": {
    "name": "ipython",
    "version": 3
   },
   "file_extension": ".py",
   "mimetype": "text/x-python",
   "name": "python",
   "nbconvert_exporter": "python",
   "pygments_lexer": "ipython3",
   "version": "3.6.9"
  }
 },
 "nbformat": 4,
 "nbformat_minor": 4
}
